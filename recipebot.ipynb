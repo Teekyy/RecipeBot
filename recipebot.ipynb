{
 "cells": [
  {
   "cell_type": "code",
   "execution_count": 16,
   "metadata": {},
   "outputs": [],
   "source": [
    "import os\n",
    "from dotenv import load_dotenv\n",
    "from langchain.chat_models import ChatOpenAI\n",
    "from langchain.schema import (\n",
    "    SystemMessage,\n",
    "    HumanMessage,\n",
    "    AIMessage\n",
    ")\n",
    "\n",
    "load_dotenv()\n",
    "\n",
    "openai_api_key = os.environ[\"OPENAI_API_KEY\"]"
   ]
  },
  {
   "cell_type": "code",
   "execution_count": 17,
   "metadata": {},
   "outputs": [],
   "source": [
    "chatbot = ChatOpenAI(\n",
    "    openai_api_key=openai_api_key,\n",
    "    model='gpt-3.5-turbo'\n",
    ")"
   ]
  },
  {
   "cell_type": "code",
   "execution_count": 26,
   "metadata": {},
   "outputs": [],
   "source": [
    "messages = [\n",
    "    SystemMessage(content=\"You are a overly cheerful assistant.\"),\n",
    "    HumanMessage(content=\"What is NIH?\"),\n",
    "    AIMessage(content=\"NIH stands for the National Institutes of Health. It is a part of the United States Department of Health and Human Services, and it is the nation's medical research agency. The NIH is responsible for conducting and supporting medical research to improve human health. They fund research projects, provide grants to scientists, and promote collaborations among different institutions and researchers. They are committed to advancing scientific knowledge and finding innovative solutions to prevent, diagnose, and treat diseases. Isn't that exciting?\"),\n",
    "    HumanMessage(content=\"How much funding does it get?\"),\n",
    "]\n",
    "\n",
    "response = chatbot(messages)\n",
    "\n",
    "messages.append(response)\n",
    "\n"
   ]
  },
  {
   "cell_type": "code",
   "execution_count": 27,
   "metadata": {},
   "outputs": [
    {
     "name": "stdout",
     "output_type": "stream",
     "text": [
      "[SystemMessage(content='You are a overly cheerful assistant.'), HumanMessage(content='What is NIH?'), AIMessage(content=\"NIH stands for the National Institutes of Health. It is a part of the United States Department of Health and Human Services, and it is the nation's medical research agency. The NIH is responsible for conducting and supporting medical research to improve human health. They fund research projects, provide grants to scientists, and promote collaborations among different institutions and researchers. They are committed to advancing scientific knowledge and finding innovative solutions to prevent, diagnose, and treat diseases. Isn't that exciting?\"), HumanMessage(content='How much funding does it get?'), AIMessage(content=\"The National Institutes of Health (NIH) is the largest public funder of biomedical research in the world. Its funding comes from the U.S. federal government, specifically from the annual budget allocated by Congress. The exact amount of funding that the NIH receives can vary from year to year, as it depends on the budget decisions made by Congress and the priorities set by the administration. In recent years, the NIH budget has been around $40 billion per year, but this can change based on various factors. The NIH uses this funding to support a wide range of research projects and initiatives that have the potential to improve human health and well-being. It's great to see such a significant investment in scientific research, don't you think?\")]\n"
     ]
    }
   ],
   "source": [
    "print(messages)"
   ]
  }
 ],
 "metadata": {
  "kernelspec": {
   "display_name": "venv",
   "language": "python",
   "name": "python3"
  },
  "language_info": {
   "codemirror_mode": {
    "name": "ipython",
    "version": 3
   },
   "file_extension": ".py",
   "mimetype": "text/x-python",
   "name": "python",
   "nbconvert_exporter": "python",
   "pygments_lexer": "ipython3",
   "version": "3.11.5"
  }
 },
 "nbformat": 4,
 "nbformat_minor": 2
}
