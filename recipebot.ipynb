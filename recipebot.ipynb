{
 "cells": [
  {
   "cell_type": "code",
   "execution_count": 1,
   "metadata": {},
   "outputs": [
    {
     "name": "stderr",
     "output_type": "stream",
     "text": [
      "/Users/Prateek/GitHub/RecipeBot/venv/lib/python3.11/site-packages/pinecone/index.py:4: TqdmExperimentalWarning: Using `tqdm.autonotebook.tqdm` in notebook mode. Use `tqdm.tqdm` instead to force console mode (e.g. in jupyter console)\n",
      "  from tqdm.autonotebook import tqdm\n"
     ]
    }
   ],
   "source": [
    "# import env libraries\n",
    "import os\n",
    "from dotenv import load_dotenv\n",
    "# import chatbot libraries\n",
    "from langchain.chat_models import ChatOpenAI\n",
    "from langchain.memory import ConversationBufferWindowMemory\n",
    "from langchain.chains import ConversationalRetrievalChain\n",
    "#import pdf embedding libraries\n",
    "from langchain.embeddings import OpenAIEmbeddings\n",
    "from langchain.text_splitter import RecursiveCharacterTextSplitter\n",
    "from langchain.document_loaders import PyMuPDFLoader\n",
    "# import pinecone\n",
    "import pinecone\n",
    "from langchain.vectorstores import Pinecone\n",
    "import time\n",
    "\n",
    "load_dotenv()\n",
    "\n",
    "def initialize_pinecone(index_name):\n",
    "    pinecone.init(\n",
    "        api_key=os.environ.get('PINECONE_API_KEY'),\n",
    "        environment=os.environ.get('PINECONE_ENVIRONMENT')\n",
    "    )\n",
    "\n",
    "    # create index if it does not exist\n",
    "    if index_name not in pinecone.list_indexes():\n",
    "        pinecone.create_index(\n",
    "            index_name,\n",
    "            dimension=1536,\n",
    "            metric='cosine'\n",
    "        )\n",
    "    # wait for index to finish initialization\n",
    "    while not pinecone.describe_index(index_name).status['ready']:\n",
    "        time.sleep(1)\n",
    "\n",
    "def initialize_chatbot(index_name):\n",
    "    chatbot = ChatOpenAI(\n",
    "        openai_api_key=os.environ[\"OPENAI_API_KEY\"],\n",
    "        model='gpt-3.5-turbo',\n",
    "        temperature=0.2\n",
    "    )\n",
    "\n",
    "    embeddings = OpenAIEmbeddings(openai_api_key=os.environ[\"OPENAI_API_KEY\"])\n",
    "    vectorstore = Pinecone.from_existing_index(index_name, embeddings)\n",
    "    retriever = vectorstore.as_retriever()\n",
    "\n",
    "    memory = ConversationBufferWindowMemory(\n",
    "        k=10,\n",
    "        memory_key=\"chat_history\",\n",
    "        return_messages=True\n",
    "    )\n",
    "\n",
    "    qa = ConversationalRetrievalChain.from_llm(llm=chatbot, retriever=retriever, memory=memory)\n",
    "    return qa\n",
    "\n",
    "def embed_pdfs(file_path):\n",
    "    loader = PyMuPDFLoader(file_path)\n",
    "    data = loader.load()\n",
    "\n",
    "    text_splitter = RecursiveCharacterTextSplitter(chunk_size=200, chunk_overlap=0)\n",
    "    all_splits = text_splitter.split_documents(data)\n",
    "\n",
    "    embeddings = OpenAIEmbeddings(openai_api_key=os.environ[\"OPENAI_API_KEY\"])\n",
    "    Pinecone.from_documents(documents=all_splits, embedding=embeddings())\n",
    "\n",
    "def chat(query, qa):\n",
    "    response = qa(query)\n",
    "\n",
    "    print(response[\"answer\"])"
   ]
  },
  {
   "cell_type": "code",
   "execution_count": 2,
   "metadata": {},
   "outputs": [],
   "source": [
    "index_name = \"recipes\"\n",
    "\n",
    "initialize_pinecone(index_name)\n",
    "chatbot = initialize_chatbot(index_name)"
   ]
  },
  {
   "cell_type": "code",
   "execution_count": 6,
   "metadata": {},
   "outputs": [
    {
     "name": "stdout",
     "output_type": "stream",
     "text": [
      "The nutrition information for the boiled egg recipe is as follows:\n",
      "- Calories: 77.5kcal\n",
      "- Carbohydrates: 0.6g\n",
      "- Protein: 6.3g\n",
      "- Fat: 5.3g\n",
      "- Saturated Fat: 1.6g\n",
      "- Cholesterol: 186.5mg\n",
      "- Sodium: 62mg\n",
      "- Sugar: 0.6g\n"
     ]
    }
   ],
   "source": [
    "query = \"what is the nutrition information for the boiled egg recipe?\"\n",
    "chat(query, chatbot)"
   ]
  }
 ],
 "metadata": {
  "kernelspec": {
   "display_name": "venv",
   "language": "python",
   "name": "python3"
  },
  "language_info": {
   "codemirror_mode": {
    "name": "ipython",
    "version": 3
   },
   "file_extension": ".py",
   "mimetype": "text/x-python",
   "name": "python",
   "nbconvert_exporter": "python",
   "pygments_lexer": "ipython3",
   "version": "3.11.5"
  }
 },
 "nbformat": 4,
 "nbformat_minor": 2
}
